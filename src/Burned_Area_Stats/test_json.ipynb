{
 "cells": [
  {
   "cell_type": "code",
   "execution_count": 1,
   "metadata": {},
   "outputs": [],
   "source": [
    "import json"
   ]
  },
  {
   "cell_type": "code",
   "execution_count": 2,
   "metadata": {},
   "outputs": [],
   "source": [
    "CLC_number_to_legend_color = {\n",
    "            111: (\"#e6004d\", \"Continuous urban fabric\"),\n",
    "            112: (\"#ff0000\", \"Discontinuous urban fabric\"),\n",
    "            121: (\"#cc4df2\", \"Industrial or commercial units\"),\n",
    "            122: (\"#cc0000\", \"Road and rail networks and associated land\"),\n",
    "            123: (\"#e6004d\", \"Port areas\"),\n",
    "            124: (\"#e6cce6\", \"Airports\"),\n",
    "            131: (\"#a600cc\", \"Mineral extraction sites\"),\n",
    "            132: (\"#a64d00\", \"Dump sites\"),\n",
    "            133: (\"#ff4dff\", \"Construction sites\"),\n",
    "            141: (\"#ffa6ff\", \"Green urban areas\"),\n",
    "            142: (\"#ffe6ff\", \"Sport and leisure facilities\"),\n",
    "            211: (\"#ffffa8\", \"Non-irrigated arable land\"),\n",
    "            212: (\"#ffff00\", \"Permanently irrigated land\"),\n",
    "            213: (\"#e6e600\", \"Rice fields\"),\n",
    "            221: (\"#e68000\", \"Vineyards\"),\n",
    "            222: (\"#f2a64d\", \"Fruit trees and berry plantations\"),\n",
    "            223: (\"#e6a600\", \"Olive groves\"),\n",
    "            231: (\"#e6e64d\", \"Pastures\"),\n",
    "            241: (\"#ffe6a6\", \"Annual crops associated with permanent crops\"),\n",
    "            242: (\"#ffe64d\", \"Complex cultivation patterns\"),\n",
    "            243: (\"#e6cc4d\", \"Land principally occupied by agriculture,\\n with significant areas of natural vegetation\"),\n",
    "            244: (\"#e6cc4d\", \"Agro-forestry areas\"),\n",
    "            311: (\"#80ff00\", \"Broad-leaved forest\"),\n",
    "            312: (\"#00a600\", \"Coniferous forest\"),\n",
    "            313: (\"#4dff00\", \"Mixed forest\"),\n",
    "            321: (\"#ccf24d\", \"Natural grasslands\"),\n",
    "            322: (\"#a6ff80\", \"Moors and heathland\"),\n",
    "            323: (\"#a6e64d\", \"Sclerophyllous vegetation\"),\n",
    "            324: (\"#a6f200\", \"Transitional woodland-shrub\"),\n",
    "            331: (\"#e6e6e6\", \"Beaches, dunes, sands\"),\n",
    "            332: (\"#cccccc\", \"Bare rocks\"),\n",
    "            333: (\"#ccffcc\", \"Sparsely vegetated areas\"),\n",
    "            334: (\"#000000\", \"Burnt areas\"),\n",
    "            335: (\"#a6e6cc\", \"Glaciers and perpetual snow\"),\n",
    "            411: (\"#a6a6ff\", \"Inland marshes\"),\n",
    "            412: (\"#4d4dff\", \"Peat bogs\"),\n",
    "            421: (\"#ccccff\", \"Salt marshes\"),\n",
    "            422: (\"#e6e6ff\", \"Salines\"),\n",
    "            423: (\"#a6a6e6\", \"Intertidal flats\"),\n",
    "            511: (\"#00ccf2\", \"Water courses\"),\n",
    "            512: (\"#80f2e6\", \"Water bodies\"),\n",
    "            521: (\"#00ffa6\", \"Coastal lagoons\"),\n",
    "            522: (\"#00ffa6\", \"Estuaries\"),\n",
    "            523: (\"#e6f2ff\", \"Sea and ocean\"),\n",
    "            000: (\"#a4a4a6\", \"Other\")\n",
    "        }"
   ]
  },
  {
   "cell_type": "code",
   "execution_count": 4,
   "metadata": {},
   "outputs": [],
   "source": [
    "#save dict to json\n",
    "with open('CLC_number_to_legend_color.json', 'w') as f:\n",
    "    json.dump(CLC_number_to_legend_color, f, indent=4)"
   ]
  },
  {
   "cell_type": "code",
   "execution_count": 5,
   "metadata": {},
   "outputs": [],
   "source": [
    "#read json to dict\n",
    "with open('CLC_number_to_legend_color.json', 'r') as f:\n",
    "    data = json.load(f)"
   ]
  },
  {
   "cell_type": "code",
   "execution_count": 6,
   "metadata": {},
   "outputs": [
    {
     "data": {
      "text/plain": [
       "{'111': ['#e6004d', 'Continuous urban fabric'],\n",
       " '112': ['#ff0000', 'Discontinuous urban fabric'],\n",
       " '121': ['#cc4df2', 'Industrial or commercial units'],\n",
       " '122': ['#cc0000', 'Road and rail networks and associated land'],\n",
       " '123': ['#e6004d', 'Port areas'],\n",
       " '124': ['#e6cce6', 'Airports'],\n",
       " '131': ['#a600cc', 'Mineral extraction sites'],\n",
       " '132': ['#a64d00', 'Dump sites'],\n",
       " '133': ['#ff4dff', 'Construction sites'],\n",
       " '141': ['#ffa6ff', 'Green urban areas'],\n",
       " '142': ['#ffe6ff', 'Sport and leisure facilities'],\n",
       " '211': ['#ffffa8', 'Non-irrigated arable land'],\n",
       " '212': ['#ffff00', 'Permanently irrigated land'],\n",
       " '213': ['#e6e600', 'Rice fields'],\n",
       " '221': ['#e68000', 'Vineyards'],\n",
       " '222': ['#f2a64d', 'Fruit trees and berry plantations'],\n",
       " '223': ['#e6a600', 'Olive groves'],\n",
       " '231': ['#e6e64d', 'Pastures'],\n",
       " '241': ['#ffe6a6', 'Annual crops associated with permanent crops'],\n",
       " '242': ['#ffe64d', 'Complex cultivation patterns'],\n",
       " '243': ['#e6cc4d',\n",
       "  'Land principally occupied by agriculture,\\n with significant areas of natural vegetation'],\n",
       " '244': ['#e6cc4d', 'Agro-forestry areas'],\n",
       " '311': ['#80ff00', 'Broad-leaved forest'],\n",
       " '312': ['#00a600', 'Coniferous forest'],\n",
       " '313': ['#4dff00', 'Mixed forest'],\n",
       " '321': ['#ccf24d', 'Natural grasslands'],\n",
       " '322': ['#a6ff80', 'Moors and heathland'],\n",
       " '323': ['#a6e64d', 'Sclerophyllous vegetation'],\n",
       " '324': ['#a6f200', 'Transitional woodland-shrub'],\n",
       " '331': ['#e6e6e6', 'Beaches, dunes, sands'],\n",
       " '332': ['#cccccc', 'Bare rocks'],\n",
       " '333': ['#ccffcc', 'Sparsely vegetated areas'],\n",
       " '334': ['#000000', 'Burnt areas'],\n",
       " '335': ['#a6e6cc', 'Glaciers and perpetual snow'],\n",
       " '411': ['#a6a6ff', 'Inland marshes'],\n",
       " '412': ['#4d4dff', 'Peat bogs'],\n",
       " '421': ['#ccccff', 'Salt marshes'],\n",
       " '422': ['#e6e6ff', 'Salines'],\n",
       " '423': ['#a6a6e6', 'Intertidal flats'],\n",
       " '511': ['#00ccf2', 'Water courses'],\n",
       " '512': ['#80f2e6', 'Water bodies'],\n",
       " '521': ['#00ffa6', 'Coastal lagoons'],\n",
       " '522': ['#00ffa6', 'Estuaries'],\n",
       " '523': ['#e6f2ff', 'Sea and ocean'],\n",
       " '0': ['#a4a4a6', 'Other']}"
      ]
     },
     "execution_count": 6,
     "metadata": {},
     "output_type": "execute_result"
    }
   ],
   "source": [
    "data"
   ]
  },
  {
   "cell_type": "code",
   "execution_count": 10,
   "metadata": {},
   "outputs": [],
   "source": [
    "x, y = data['111']"
   ]
  },
  {
   "cell_type": "code",
   "execution_count": 11,
   "metadata": {},
   "outputs": [
    {
     "data": {
      "text/plain": [
       "('#e6004d', 'Continuous urban fabric')"
      ]
     },
     "execution_count": 11,
     "metadata": {},
     "output_type": "execute_result"
    }
   ],
   "source": [
    "x ,y"
   ]
  },
  {
   "cell_type": "code",
   "execution_count": null,
   "metadata": {},
   "outputs": [],
   "source": []
  }
 ],
 "metadata": {
  "kernelspec": {
   "display_name": "praktiki_new",
   "language": "python",
   "name": "python3"
  },
  "language_info": {
   "codemirror_mode": {
    "name": "ipython",
    "version": 3
   },
   "file_extension": ".py",
   "mimetype": "text/x-python",
   "name": "python",
   "nbconvert_exporter": "python",
   "pygments_lexer": "ipython3",
   "version": "3.10.14"
  }
 },
 "nbformat": 4,
 "nbformat_minor": 2
}
