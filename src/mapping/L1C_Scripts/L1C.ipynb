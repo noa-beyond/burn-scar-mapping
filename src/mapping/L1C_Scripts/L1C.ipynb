{
 "cells": [
  {
   "cell_type": "code",
   "execution_count": 1,
   "metadata": {},
   "outputs": [],
   "source": [
    "import json\n",
    "from Downloader_L1C import Downloader\n",
    "from Processor_L1C import Processor"
   ]
  },
  {
   "cell_type": "code",
   "execution_count": 2,
   "metadata": {},
   "outputs": [],
   "source": [
    "def load_config(config_path):\n",
    "    with open(config_path, 'r') as config_file:\n",
    "        config = json.load(config_file)\n",
    "    return config"
   ]
  },
  {
   "cell_type": "code",
   "execution_count": 3,
   "metadata": {},
   "outputs": [],
   "source": [
    "config = load_config('config_file.json')\n",
    "# Accessing the values from the config\n",
    "client_id = config['sentinelhub']['client_id']\n",
    "client_secret = config['sentinelhub']['client_secret']\n",
    "username = config['sentinelhub']['username']\n",
    "password = config['sentinelhub']['password']\n",
    "start_date = config['process_info']['start_date']\n",
    "fire_date = config['process_info']['fire_date']\n",
    "end_date = config['process_info']['end_date']\n",
    "fire_duration = config['process_info']['fire_duration']\n",
    "lat = config['process_info']['lat']\n",
    "lon = config['process_info']['lon']\n",
    "cloud_coverage_threshold = config['user_variables']['cloud_coverage_threshold']\n",
    "mask_threshold = config['user_variables']['mask_threshold']\n",
    "\n",
    "debug = config['debug']\n",
    "save_path = 'D:/Praktiki/burned-scar-mapping/burn-scar-mapping/src/mapping/Images_Save'\n"
   ]
  },
  {
   "cell_type": "code",
   "execution_count": null,
   "metadata": {},
   "outputs": [],
   "source": [
    "from datetime import datetime, timedelta\n",
    "# Convert the string to a datetime object\n",
    "fire_date_ns = datetime.strptime(fire_date, \"%Y-%m-%d\")\n",
    "# Calculate pre_fire_date and post_fire_date\n",
    "pre_fire_date_ns = fire_date - timedelta(days = fire_duration)\n",
    "post_fire_date_ns = fire_date + timedelta(days = fire_duration)\n",
    "# Convert back to string\n",
    "pre_fire_date = pre_fire_date_ns.strftime(\"%Y-%m-%d\")\n",
    "post_fire_date = post_fire_date_ns.strftime(\"%Y-%m-%d\")\n",
    "print(\"Pre-Fire Date:\", pre_fire_date)\n",
    "print(\"Post-Fire Date:\", post_fire_date)"
   ]
  },
  {
   "cell_type": "code",
   "execution_count": 4,
   "metadata": {},
   "outputs": [
    {
     "name": "stderr",
     "output_type": "stream",
     "text": [
      "2024-08-30 13:31:44,364 - Downloader_L1C - INFO - Access token obtained successfully.\n"
     ]
    }
   ],
   "source": [
    "downloader = Downloader(username, password, client_id, client_secret)\n",
    "processor = Processor(downloader, cloud_coverage_threshold, mask_threshold)"
   ]
  },
  {
   "cell_type": "code",
   "execution_count": 5,
   "metadata": {},
   "outputs": [
    {
     "name": "stderr",
     "output_type": "stream",
     "text": [
      "2024-08-30 13:31:44,396 - root - INFO - Starting process for burned area with start_date=2024-07-10, end_date=2024-08-12, lat=41.3748, lon=23.5905\n",
      "2024-08-30 13:31:44,404 - root - INFO - For the pre image:\n",
      "2024-08-30 13:31:46,651 - Downloader_L1C - INFO - Found 16 products for the search criteria.\n",
      "2024-08-30 13:31:46,659 - Downloader_L1C - INFO - 8 products after filtering for level 'L1C'.\n",
      "2024-08-30 13:31:47,608 - Downloader_L1C - INFO - 8 products meet the cloud coverage criteria.\n",
      "2024-08-30 13:31:47,626 - Downloader_L1C - INFO - 8 products remain after cloud filtering.\n",
      "2024-08-30 13:31:47,635 - Downloader_L1C - INFO - Selected pre - image: S2B_MSIL1C_20240716T091559_N0510_R093_T34TGL_20240716T101056.SAFE\n",
      "2024-08-30 13:31:47,635 - root - INFO - Downloading and creating NBR for image ID: 63585e60-35a8-4845-88ef-5f75e6306fae\n",
      "2024-08-30 13:31:47,635 - Downloader_L1C - INFO - Downloading image with ID 63585e60-35a8-4845-88ef-5f75e6306fae.\n"
     ]
    },
    {
     "name": "stdout",
     "output_type": "stream",
     "text": [
      "j: 8\n"
     ]
    },
    {
     "name": "stderr",
     "output_type": "stream",
     "text": [
      "2024-08-30 13:34:30,533 - root - ERROR - Error downloading and creating NBR: list index out of range\n",
      "2024-08-30 13:34:30,533 - root - ERROR - Error processing burned area: list index out of range\n"
     ]
    },
    {
     "ename": "IndexError",
     "evalue": "list index out of range",
     "output_type": "error",
     "traceback": [
      "\u001b[1;31m---------------------------------------------------------------------------\u001b[0m",
      "\u001b[1;31mIndexError\u001b[0m                                Traceback (most recent call last)",
      "Cell \u001b[1;32mIn[5], line 1\u001b[0m\n\u001b[1;32m----> 1\u001b[0m processed_dir \u001b[38;5;241m=\u001b[39m \u001b[43mprocessor\u001b[49m\u001b[38;5;241;43m.\u001b[39;49m\u001b[43mprocess_burned_area\u001b[49m\u001b[43m(\u001b[49m\u001b[43mstart_date\u001b[49m\u001b[43m,\u001b[49m\u001b[43mend_date\u001b[49m\u001b[43m,\u001b[49m\u001b[43mfire_date\u001b[49m\u001b[43m,\u001b[49m\u001b[43m \u001b[49m\u001b[43mlat\u001b[49m\u001b[43m,\u001b[49m\u001b[43m \u001b[49m\u001b[43mlon\u001b[49m\u001b[43m,\u001b[49m\u001b[43m \u001b[49m\u001b[43msave_path\u001b[49m\u001b[43m)\u001b[49m\n",
      "File \u001b[1;32md:\\Praktiki\\burned-scar-mapping\\burn-scar-mapping\\src\\mapping\\L1C_Scripts\\Processor_L1C.py:146\u001b[0m, in \u001b[0;36mprocess_burned_area\u001b[1;34m(self, start_date, end_date, fire_date, lat, lon, output_dir)\u001b[0m\n\u001b[0;32m    143\u001b[0m  products_sorted_pre \u001b[38;5;241m=\u001b[39m \u001b[38;5;28mself\u001b[39m\u001b[38;5;241m.\u001b[39mdownloader\u001b[38;5;241m.\u001b[39msearch_sentinel(start_date, fire_date, aoi, bb, \u001b[38;5;28mself\u001b[39m\u001b[38;5;241m.\u001b[39mcloud_coverage_threshold, data_collection \u001b[38;5;241m=\u001b[39m \u001b[38;5;124m\"\u001b[39m\u001b[38;5;124mSENTINEL-2\u001b[39m\u001b[38;5;124m\"\u001b[39m, level \u001b[38;5;241m=\u001b[39m \u001b[38;5;124m'\u001b[39m\u001b[38;5;124mL1C\u001b[39m\u001b[38;5;124m'\u001b[39m)\n\u001b[0;32m    144\u001b[0m \u001b[38;5;66;03m# print(products_sorted_pre['date'])   \u001b[39;00m\n\u001b[1;32m--> 146\u001b[0m  pre_id, pre_name, pre_tile \u001b[38;5;241m=\u001b[39m \u001b[38;5;28mself\u001b[39m\u001b[38;5;241m.\u001b[39mdownloader\u001b[38;5;241m.\u001b[39mselect_pre_image(products_sorted_pre,)\n\u001b[0;32m    147\u001b[0m  nbr_pre \u001b[38;5;241m=\u001b[39m \u001b[38;5;28mself\u001b[39m\u001b[38;5;241m.\u001b[39mdownload_n_create_nbr(pre_id, output_dir, pre_name)\n\u001b[0;32m    149\u001b[0m  logging\u001b[38;5;241m.\u001b[39minfo(\u001b[38;5;124m'\u001b[39m\u001b[38;5;124mFor the post image:\u001b[39m\u001b[38;5;124m'\u001b[39m)\n",
      "File \u001b[1;32md:\\Praktiki\\burned-scar-mapping\\burn-scar-mapping\\src\\mapping\\L1C_Scripts\\Processor_L1C.py:103\u001b[0m, in \u001b[0;36mProcessor.download_n_create_nbr\u001b[1;34m(self, image_id, output_dir, image_name)\u001b[0m\n\u001b[0;32m    101\u001b[0m band4_path \u001b[38;5;241m=\u001b[39m glob\u001b[38;5;241m.\u001b[39mglob(band4_path_pattern)\n\u001b[0;32m    102\u001b[0m band3_path \u001b[38;5;241m=\u001b[39m glob\u001b[38;5;241m.\u001b[39mglob(band3_path_pattern)\n\u001b[1;32m--> 103\u001b[0m band2_path \u001b[38;5;241m=\u001b[39m glob\u001b[38;5;241m.\u001b[39mglob(band2_path_pattern)\n\u001b[0;32m    104\u001b[0m nbr \u001b[38;5;241m=\u001b[39m \u001b[38;5;28mself\u001b[39m\u001b[38;5;241m.\u001b[39mcreate_nbr(band8_path[\u001b[38;5;241m0\u001b[39m],band12_path[\u001b[38;5;241m0\u001b[39m])\n\u001b[0;32m    105\u001b[0m \u001b[38;5;28;01mreturn\u001b[39;00m nbr\n",
      "\u001b[1;31mIndexError\u001b[0m: list index out of range"
     ]
    }
   ],
   "source": [
    "processed_dir = processor.process_burned_area(start_date,end_date,pre_fire_date,post_fire_date, lat, lon, save_path)"
   ]
  }
 ],
 "metadata": {
  "kernelspec": {
   "display_name": "environment_V_p_3_10",
   "language": "python",
   "name": "python3"
  },
  "language_info": {
   "codemirror_mode": {
    "name": "ipython",
    "version": 3
   },
   "file_extension": ".py",
   "mimetype": "text/x-python",
   "name": "python",
   "nbconvert_exporter": "python",
   "pygments_lexer": "ipython3",
   "version": "3.10.14"
  }
 },
 "nbformat": 4,
 "nbformat_minor": 2
}
