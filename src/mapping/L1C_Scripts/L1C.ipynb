{
 "cells": [
  {
   "cell_type": "code",
   "execution_count": 1,
   "metadata": {},
   "outputs": [],
   "source": [
    "import json\n",
    "from Downloader_L1C import Downloader\n",
    "from Processor_L1C import Processor"
   ]
  },
  {
   "cell_type": "code",
   "execution_count": 2,
   "metadata": {},
   "outputs": [],
   "source": [
    "def load_config(config_path):\n",
    "    with open(config_path, 'r') as config_file:\n",
    "        config = json.load(config_file)\n",
    "    return config"
   ]
  },
  {
   "cell_type": "code",
   "execution_count": 3,
   "metadata": {},
   "outputs": [],
   "source": [
    "config = load_config('config_file.json')\n",
    "# Accessing the values from the config\n",
    "client_id = config['sentinelhub']['client_id']\n",
    "client_secret = config['sentinelhub']['client_secret']\n",
    "username = config['sentinelhub']['username']\n",
    "password = config['sentinelhub']['password']\n",
    "start_date = config['process_info']['start_date']\n",
    "fire_date = config['process_info']['fire_date']\n",
    "end_date = config['process_info']['end_date']\n",
    "fire_duration = config['process_info']['fire_duration']\n",
    "lat = config['process_info']['lat']\n",
    "lon = config['process_info']['lon']\n",
    "cloud_coverage_threshold = config['user_variables']['cloud_coverage_threshold']\n",
    "mask_threshold = config['user_variables']['mask_threshold']\n",
    "\n",
    "debug = config['debug']\n",
    "save_path = 'D:/Praktiki/burned-scar-mapping/burn-scar-mapping/src/mapping/Images_Save'\n"
   ]
  },
  {
   "cell_type": "code",
   "execution_count": 4,
   "metadata": {},
   "outputs": [
    {
     "name": "stdout",
     "output_type": "stream",
     "text": [
      "Pre-Fire Date: 2024-07-18\n",
      "Post-Fire Date: 2024-07-20\n"
     ]
    }
   ],
   "source": [
    "from datetime import datetime, timedelta\n",
    "# Convert the string to a datetime object\n",
    "fire_date_ns = datetime.strptime(fire_date, \"%Y-%m-%d\")\n",
    "# Calculate pre_fire_date and post_fire_date\n",
    "pre_fire_date_ns = fire_date_ns - timedelta(days = fire_duration)\n",
    "post_fire_date_ns = fire_date_ns + timedelta(days = fire_duration)\n",
    "# Convert back to string\n",
    "pre_fire_date = pre_fire_date_ns.strftime(\"%Y-%m-%d\")\n",
    "post_fire_date = post_fire_date_ns.strftime(\"%Y-%m-%d\")\n",
    "print(\"Pre-Fire Date:\", pre_fire_date)\n",
    "print(\"Post-Fire Date:\", post_fire_date)"
   ]
  },
  {
   "cell_type": "code",
   "execution_count": 5,
   "metadata": {},
   "outputs": [
    {
     "name": "stderr",
     "output_type": "stream",
     "text": [
      "2024-08-30 15:10:51,934 - Downloader_L1C - INFO - Access token obtained successfully.\n"
     ]
    }
   ],
   "source": [
    "downloader = Downloader(username, password, client_id, client_secret)\n",
    "processor = Processor(downloader, cloud_coverage_threshold, mask_threshold)"
   ]
  },
  {
   "cell_type": "code",
   "execution_count": 6,
   "metadata": {},
   "outputs": [
    {
     "name": "stderr",
     "output_type": "stream",
     "text": [
      "2024-08-30 15:10:51,963 - root - INFO - Starting process for burned area with start_date=2024-07-10, end_date=2024-08-12, lat=41.3748, lon=23.5905\n",
      "2024-08-30 15:10:51,968 - root - INFO - For the pre image:\n",
      "2024-08-30 15:10:54,266 - Downloader_L1C - INFO - Found 12 products for the search criteria.\n",
      "2024-08-30 15:10:54,286 - Downloader_L1C - INFO - 6 products after filtering for level 'L1C'.\n",
      "2024-08-30 15:10:55,086 - Downloader_L1C - INFO - 8 products meet the cloud coverage criteria.\n",
      "2024-08-30 15:10:55,113 - Downloader_L1C - INFO - 6 products remain after cloud filtering.\n",
      "2024-08-30 15:10:55,116 - Downloader_L1C - INFO - Selected pre - image: S2B_MSIL1C_20240716T091559_N0510_R093_T34TGL_20240716T101056.SAFE with cloud coverage 0.0\n",
      "2024-08-30 15:10:55,117 - root - INFO - Downloading and creating NBR for image ID: 63585e60-35a8-4845-88ef-5f75e6306fae\n",
      "2024-08-30 15:10:55,119 - Downloader_L1C - INFO - Downloading image with ID 63585e60-35a8-4845-88ef-5f75e6306fae.\n",
      "2024-08-30 15:10:55,122 - Downloader_L1C - INFO - The image 63585e60-35a8-4845-88ef-5f75e6306fae is already downloaded.\n"
     ]
    },
    {
     "name": "stdout",
     "output_type": "stream",
     "text": [
      "j: 6\n"
     ]
    },
    {
     "name": "stderr",
     "output_type": "stream",
     "text": [
      "d:\\Praktiki\\burned-scar-mapping\\burn-scar-mapping\\src\\mapping\\L1C_Scripts\\Processor_L1C.py:29: RuntimeWarning: invalid value encountered in divide\n",
      "  index = (band1.values - band2_resampled.values) / (band1.values + band2_resampled.values)\n",
      "2024-08-30 15:11:12,718 - root - INFO - For the post image:\n",
      "2024-08-30 15:11:16,120 - Downloader_L1C - INFO - Found 20 products for the search criteria.\n",
      "2024-08-30 15:11:16,180 - Downloader_L1C - INFO - 10 products after filtering for level 'L1C'.\n",
      "2024-08-30 15:11:16,599 - Downloader_L1C - INFO - 11 products meet the cloud coverage criteria.\n",
      "2024-08-30 15:11:16,642 - Downloader_L1C - INFO - 5 products remain after cloud filtering.\n",
      "2024-08-30 15:11:16,648 - Downloader_L1C - INFO - Selected post image: S2A_MSIL1C_20240721T092031_N0510_R093_T34TGL_20240721T112052.SAFE with cloud coverage 0.18\n",
      "2024-08-30 15:11:16,649 - root - INFO - Downloading and creating NBR for image ID: a6e97b89-13ce-4f5c-8603-f3afe2be4884\n",
      "2024-08-30 15:11:16,651 - Downloader_L1C - INFO - Downloading image with ID a6e97b89-13ce-4f5c-8603-f3afe2be4884.\n"
     ]
    },
    {
     "name": "stdout",
     "output_type": "stream",
     "text": [
      "z: 3\n"
     ]
    },
    {
     "name": "stderr",
     "output_type": "stream",
     "text": [
      "d:\\Praktiki\\burned-scar-mapping\\burn-scar-mapping\\src\\mapping\\L1C_Scripts\\Processor_L1C.py:29: RuntimeWarning: invalid value encountered in divide\n",
      "  index = (band1.values - band2_resampled.values) / (band1.values + band2_resampled.values)\n",
      "2024-08-30 15:12:42,154 - root - INFO - Process completed.\n",
      "2024-08-30 15:13:29,811 - root - INFO - Exporting burned area.\n"
     ]
    },
    {
     "name": "stdout",
     "output_type": "stream",
     "text": [
      "[22.990499999999997, 40.9748, 24.1905, 41.7748]\n",
      "python D:/programs/installed_in_D/anaconda3/envs/environment_V_p_3_10/Lib/site-packages/GDAL-3.9.1-py3.10-win-amd64.egg-info/scripts/gdal_polygonize.py D:/Praktiki/burned-scar-mapping/burn-scar-mapping/src/mapping/Images_Save\\test_41.3748_23.5905\\burned.nc -b 1 D:/Praktiki/burned-scar-mapping/burn-scar-mapping/src/mapping/Images_Save\\test_41.3748_23.5905\\burned.shp\n"
     ]
    },
    {
     "name": "stderr",
     "output_type": "stream",
     "text": [
      "2024-08-30 15:13:32,987 - fiona._env - ERROR - D:/Praktiki/burned-scar-mapping/burn-scar-mapping/src/mapping/Images_Save\\test_41.3748_23.5905\\burned.shp: No such file or directory\n",
      "2024-08-30 15:13:33,001 - root - ERROR - Error exporting burned area: D:/Praktiki/burned-scar-mapping/burn-scar-mapping/src/mapping/Images_Save\\test_41.3748_23.5905\\burned.shp: No such file or directory\n",
      "2024-08-30 15:13:33,003 - root - ERROR - Error processing burned area: D:/Praktiki/burned-scar-mapping/burn-scar-mapping/src/mapping/Images_Save\\test_41.3748_23.5905\\burned.shp: No such file or directory\n"
     ]
    },
    {
     "ename": "DriverError",
     "evalue": "D:/Praktiki/burned-scar-mapping/burn-scar-mapping/src/mapping/Images_Save\\test_41.3748_23.5905\\burned.shp: No such file or directory",
     "output_type": "error",
     "traceback": [
      "\u001b[1;31m---------------------------------------------------------------------------\u001b[0m",
      "\u001b[1;31mCPLE_OpenFailedError\u001b[0m                      Traceback (most recent call last)",
      "File \u001b[1;32mfiona\\\\ogrext.pyx:136\u001b[0m, in \u001b[0;36mfiona.ogrext.gdal_open_vector\u001b[1;34m()\u001b[0m\n",
      "File \u001b[1;32mfiona\\\\_err.pyx:291\u001b[0m, in \u001b[0;36mfiona._err.exc_wrap_pointer\u001b[1;34m()\u001b[0m\n",
      "\u001b[1;31mCPLE_OpenFailedError\u001b[0m: D:/Praktiki/burned-scar-mapping/burn-scar-mapping/src/mapping/Images_Save\\test_41.3748_23.5905\\burned.shp: No such file or directory",
      "\nDuring handling of the above exception, another exception occurred:\n",
      "\u001b[1;31mDriverError\u001b[0m                               Traceback (most recent call last)",
      "Cell \u001b[1;32mIn[6], line 1\u001b[0m\n\u001b[1;32m----> 1\u001b[0m processed_dir \u001b[38;5;241m=\u001b[39m \u001b[43mprocessor\u001b[49m\u001b[38;5;241;43m.\u001b[39;49m\u001b[43mprocess_burned_area\u001b[49m\u001b[43m(\u001b[49m\u001b[43mstart_date\u001b[49m\u001b[43m,\u001b[49m\u001b[43mend_date\u001b[49m\u001b[43m,\u001b[49m\u001b[43mpre_fire_date\u001b[49m\u001b[43m,\u001b[49m\u001b[43mpost_fire_date\u001b[49m\u001b[43m,\u001b[49m\u001b[43m \u001b[49m\u001b[43mlat\u001b[49m\u001b[43m,\u001b[49m\u001b[43m \u001b[49m\u001b[43mlon\u001b[49m\u001b[43m,\u001b[49m\u001b[43m \u001b[49m\u001b[43msave_path\u001b[49m\u001b[43m)\u001b[49m\n",
      "File \u001b[1;32md:\\Praktiki\\burned-scar-mapping\\burn-scar-mapping\\src\\mapping\\L1C_Scripts\\Processor_L1C.py:167\u001b[0m, in \u001b[0;36mProcessor.process_burned_area\u001b[1;34m(self, start_date, end_date, pre_fire_date, post_fire_date, lat, lon, output_dir)\u001b[0m\n\u001b[0;32m    165\u001b[0m     bb_crop \u001b[38;5;241m=\u001b[39m [lon\u001b[38;5;241m-\u001b[39m\u001b[38;5;241m0.6\u001b[39m, lat\u001b[38;5;241m-\u001b[39m\u001b[38;5;241m0.4\u001b[39m, lon\u001b[38;5;241m+\u001b[39m\u001b[38;5;241m0.6\u001b[39m, lat\u001b[38;5;241m+\u001b[39m\u001b[38;5;241m0.4\u001b[39m]\n\u001b[0;32m    166\u001b[0m     \u001b[38;5;28mprint\u001b[39m(bb_crop)\n\u001b[1;32m--> 167\u001b[0m     \u001b[38;5;28;43mself\u001b[39;49m\u001b[38;5;241;43m.\u001b[39;49m\u001b[43mexport_burned_area\u001b[49m\u001b[43m(\u001b[49m\u001b[43mdnbr_proj\u001b[49m\u001b[43m,\u001b[49m\u001b[43m \u001b[49m\u001b[43mbb_crop\u001b[49m\u001b[43m,\u001b[49m\u001b[43m \u001b[49m\u001b[43moutput_dir\u001b[49m\u001b[43m)\u001b[49m\n\u001b[0;32m    168\u001b[0m     \u001b[38;5;28;01mreturn\u001b[39;00m output_dir\n\u001b[0;32m    170\u001b[0m \u001b[38;5;28;01mexcept\u001b[39;00m \u001b[38;5;167;01mException\u001b[39;00m \u001b[38;5;28;01mas\u001b[39;00m e:\n",
      "File \u001b[1;32md:\\Praktiki\\burned-scar-mapping\\burn-scar-mapping\\src\\mapping\\L1C_Scripts\\Processor_L1C.py:73\u001b[0m, in \u001b[0;36mProcessor.export_burned_area\u001b[1;34m(self, dnbr_proj, bb_crop, output_dir)\u001b[0m\n\u001b[0;32m     59\u001b[0m os\u001b[38;5;241m.\u001b[39msystem(gdal_command)\n\u001b[0;32m     61\u001b[0m \u001b[38;5;66;03m# gdal_script = 'D:/programs/installed_in_D/anaconda3/envs/environment_V_p_3_10/Lib/site-packages/GDAL-3.9.1-py3.10-win-amd64.egg-info/scripts/gdal_polygonize.py'\u001b[39;00m\n\u001b[0;32m     62\u001b[0m \u001b[38;5;66;03m# gdal_script = 'D:/Praktiki/WILDFIRE_MAPPING/polygonize_pz/gdal_polygonize.py'\u001b[39;00m\n\u001b[0;32m     63\u001b[0m \u001b[38;5;66;03m# input_raster = os.path.join(output_dir, 'burned.nc')\u001b[39;00m\n\u001b[1;32m   (...)\u001b[0m\n\u001b[0;32m     70\u001b[0m \n\u001b[0;32m     71\u001b[0m \u001b[38;5;66;03m# print(\"output_shapefile: \", output_shapefile )\u001b[39;00m\n\u001b[1;32m---> 73\u001b[0m polygon \u001b[38;5;241m=\u001b[39m \u001b[43mgpd\u001b[49m\u001b[38;5;241;43m.\u001b[39;49m\u001b[43mread_file\u001b[49m\u001b[43m(\u001b[49m\u001b[43mos\u001b[49m\u001b[38;5;241;43m.\u001b[39;49m\u001b[43mpath\u001b[49m\u001b[38;5;241;43m.\u001b[39;49m\u001b[43mjoin\u001b[49m\u001b[43m(\u001b[49m\u001b[43moutput_dir\u001b[49m\u001b[43m,\u001b[49m\u001b[38;5;124;43m'\u001b[39;49m\u001b[38;5;124;43mburned.shp\u001b[39;49m\u001b[38;5;124;43m'\u001b[39;49m\u001b[43m)\u001b[49m\u001b[43m)\u001b[49m\n\u001b[0;32m     74\u001b[0m polygon \u001b[38;5;241m=\u001b[39m polygon\u001b[38;5;241m.\u001b[39mset_crs(\u001b[38;5;241m4326\u001b[39m)\n\u001b[0;32m     75\u001b[0m polygon \u001b[38;5;241m=\u001b[39m polygon\u001b[38;5;241m.\u001b[39mto_crs(\u001b[38;5;241m2100\u001b[39m)\n",
      "File \u001b[1;32md:\\programs\\installed_in_D\\anaconda3\\envs\\environment_V_p_3_10\\lib\\site-packages\\geopandas\\io\\file.py:289\u001b[0m, in \u001b[0;36m_read_file\u001b[1;34m(filename, bbox, mask, rows, engine, **kwargs)\u001b[0m\n\u001b[0;32m    286\u001b[0m     \u001b[38;5;28;01melse\u001b[39;00m:\n\u001b[0;32m    287\u001b[0m         path_or_bytes \u001b[38;5;241m=\u001b[39m filename\n\u001b[1;32m--> 289\u001b[0m     \u001b[38;5;28;01mreturn\u001b[39;00m _read_file_fiona(\n\u001b[0;32m    290\u001b[0m         path_or_bytes, from_bytes, bbox\u001b[38;5;241m=\u001b[39mbbox, mask\u001b[38;5;241m=\u001b[39mmask, rows\u001b[38;5;241m=\u001b[39mrows, \u001b[38;5;241m*\u001b[39m\u001b[38;5;241m*\u001b[39mkwargs\n\u001b[0;32m    291\u001b[0m     )\n\u001b[0;32m    293\u001b[0m \u001b[38;5;28;01melse\u001b[39;00m:\n\u001b[0;32m    294\u001b[0m     \u001b[38;5;28;01mraise\u001b[39;00m \u001b[38;5;167;01mValueError\u001b[39;00m(\u001b[38;5;124mf\u001b[39m\u001b[38;5;124m\"\u001b[39m\u001b[38;5;124munknown engine \u001b[39m\u001b[38;5;124m'\u001b[39m\u001b[38;5;132;01m{\u001b[39;00mengine\u001b[38;5;132;01m}\u001b[39;00m\u001b[38;5;124m'\u001b[39m\u001b[38;5;124m\"\u001b[39m)\n",
      "File \u001b[1;32md:\\programs\\installed_in_D\\anaconda3\\envs\\environment_V_p_3_10\\lib\\site-packages\\geopandas\\io\\file.py:315\u001b[0m, in \u001b[0;36m_read_file_fiona\u001b[1;34m(path_or_bytes, from_bytes, bbox, mask, rows, where, **kwargs)\u001b[0m\n\u001b[0;32m    312\u001b[0m     reader \u001b[38;5;241m=\u001b[39m fiona\u001b[38;5;241m.\u001b[39mopen\n\u001b[0;32m    314\u001b[0m \u001b[38;5;28;01mwith\u001b[39;00m fiona_env():\n\u001b[1;32m--> 315\u001b[0m     \u001b[38;5;28;01mwith\u001b[39;00m reader(path_or_bytes, \u001b[38;5;241m*\u001b[39m\u001b[38;5;241m*\u001b[39mkwargs) \u001b[38;5;28;01mas\u001b[39;00m features:\n\u001b[0;32m    316\u001b[0m         crs \u001b[38;5;241m=\u001b[39m features\u001b[38;5;241m.\u001b[39mcrs_wkt\n\u001b[0;32m    317\u001b[0m         \u001b[38;5;66;03m# attempt to get EPSG code\u001b[39;00m\n",
      "File \u001b[1;32md:\\programs\\installed_in_D\\anaconda3\\envs\\environment_V_p_3_10\\lib\\site-packages\\fiona\\env.py:457\u001b[0m, in \u001b[0;36mensure_env_with_credentials.<locals>.wrapper\u001b[1;34m(*args, **kwds)\u001b[0m\n\u001b[0;32m    454\u001b[0m     session \u001b[38;5;241m=\u001b[39m DummySession()\n\u001b[0;32m    456\u001b[0m \u001b[38;5;28;01mwith\u001b[39;00m env_ctor(session\u001b[38;5;241m=\u001b[39msession):\n\u001b[1;32m--> 457\u001b[0m     \u001b[38;5;28;01mreturn\u001b[39;00m f(\u001b[38;5;241m*\u001b[39margs, \u001b[38;5;241m*\u001b[39m\u001b[38;5;241m*\u001b[39mkwds)\n",
      "File \u001b[1;32md:\\programs\\installed_in_D\\anaconda3\\envs\\environment_V_p_3_10\\lib\\site-packages\\fiona\\__init__.py:292\u001b[0m, in \u001b[0;36mopen\u001b[1;34m(fp, mode, driver, schema, crs, encoding, layer, vfs, enabled_drivers, crs_wkt, allow_unsupported_drivers, **kwargs)\u001b[0m\n\u001b[0;32m    289\u001b[0m     path \u001b[38;5;241m=\u001b[39m parse_path(fp)\n\u001b[0;32m    291\u001b[0m \u001b[38;5;28;01mif\u001b[39;00m mode \u001b[38;5;129;01min\u001b[39;00m (\u001b[38;5;124m\"\u001b[39m\u001b[38;5;124ma\u001b[39m\u001b[38;5;124m\"\u001b[39m, \u001b[38;5;124m\"\u001b[39m\u001b[38;5;124mr\u001b[39m\u001b[38;5;124m\"\u001b[39m):\n\u001b[1;32m--> 292\u001b[0m     colxn \u001b[38;5;241m=\u001b[39m Collection(\n\u001b[0;32m    293\u001b[0m         path,\n\u001b[0;32m    294\u001b[0m         mode,\n\u001b[0;32m    295\u001b[0m         driver\u001b[38;5;241m=\u001b[39mdriver,\n\u001b[0;32m    296\u001b[0m         encoding\u001b[38;5;241m=\u001b[39mencoding,\n\u001b[0;32m    297\u001b[0m         layer\u001b[38;5;241m=\u001b[39mlayer,\n\u001b[0;32m    298\u001b[0m         enabled_drivers\u001b[38;5;241m=\u001b[39menabled_drivers,\n\u001b[0;32m    299\u001b[0m         allow_unsupported_drivers\u001b[38;5;241m=\u001b[39mallow_unsupported_drivers,\n\u001b[0;32m    300\u001b[0m         \u001b[38;5;241m*\u001b[39m\u001b[38;5;241m*\u001b[39mkwargs\n\u001b[0;32m    301\u001b[0m     )\n\u001b[0;32m    302\u001b[0m \u001b[38;5;28;01melif\u001b[39;00m mode \u001b[38;5;241m==\u001b[39m \u001b[38;5;124m\"\u001b[39m\u001b[38;5;124mw\u001b[39m\u001b[38;5;124m\"\u001b[39m:\n\u001b[0;32m    303\u001b[0m     colxn \u001b[38;5;241m=\u001b[39m Collection(\n\u001b[0;32m    304\u001b[0m         path,\n\u001b[0;32m    305\u001b[0m         mode,\n\u001b[1;32m   (...)\u001b[0m\n\u001b[0;32m    314\u001b[0m         \u001b[38;5;241m*\u001b[39m\u001b[38;5;241m*\u001b[39mkwargs\n\u001b[0;32m    315\u001b[0m     )\n",
      "File \u001b[1;32md:\\programs\\installed_in_D\\anaconda3\\envs\\environment_V_p_3_10\\lib\\site-packages\\fiona\\collection.py:243\u001b[0m, in \u001b[0;36mCollection.__init__\u001b[1;34m(self, path, mode, driver, schema, crs, encoding, layer, vsi, archive, enabled_drivers, crs_wkt, ignore_fields, ignore_geometry, include_fields, wkt_version, allow_unsupported_drivers, **kwargs)\u001b[0m\n\u001b[0;32m    241\u001b[0m \u001b[38;5;28;01mif\u001b[39;00m \u001b[38;5;28mself\u001b[39m\u001b[38;5;241m.\u001b[39mmode \u001b[38;5;241m==\u001b[39m \u001b[38;5;124m\"\u001b[39m\u001b[38;5;124mr\u001b[39m\u001b[38;5;124m\"\u001b[39m:\n\u001b[0;32m    242\u001b[0m     \u001b[38;5;28mself\u001b[39m\u001b[38;5;241m.\u001b[39msession \u001b[38;5;241m=\u001b[39m Session()\n\u001b[1;32m--> 243\u001b[0m     \u001b[38;5;28mself\u001b[39m\u001b[38;5;241m.\u001b[39msession\u001b[38;5;241m.\u001b[39mstart(\u001b[38;5;28mself\u001b[39m, \u001b[38;5;241m*\u001b[39m\u001b[38;5;241m*\u001b[39mkwargs)\n\u001b[0;32m    244\u001b[0m \u001b[38;5;28;01melif\u001b[39;00m \u001b[38;5;28mself\u001b[39m\u001b[38;5;241m.\u001b[39mmode \u001b[38;5;129;01min\u001b[39;00m (\u001b[38;5;124m\"\u001b[39m\u001b[38;5;124ma\u001b[39m\u001b[38;5;124m\"\u001b[39m, \u001b[38;5;124m\"\u001b[39m\u001b[38;5;124mw\u001b[39m\u001b[38;5;124m\"\u001b[39m):\n\u001b[0;32m    245\u001b[0m     \u001b[38;5;28mself\u001b[39m\u001b[38;5;241m.\u001b[39msession \u001b[38;5;241m=\u001b[39m WritingSession()\n",
      "File \u001b[1;32mfiona\\\\ogrext.pyx:588\u001b[0m, in \u001b[0;36mfiona.ogrext.Session.start\u001b[1;34m()\u001b[0m\n",
      "File \u001b[1;32mfiona\\\\ogrext.pyx:143\u001b[0m, in \u001b[0;36mfiona.ogrext.gdal_open_vector\u001b[1;34m()\u001b[0m\n",
      "\u001b[1;31mDriverError\u001b[0m: D:/Praktiki/burned-scar-mapping/burn-scar-mapping/src/mapping/Images_Save\\test_41.3748_23.5905\\burned.shp: No such file or directory"
     ]
    }
   ],
   "source": [
    "processed_dir = processor.process_burned_area(start_date,end_date,pre_fire_date,post_fire_date, lat, lon, save_path)"
   ]
  }
 ],
 "metadata": {
  "kernelspec": {
   "display_name": "environment_V_p_3_10",
   "language": "python",
   "name": "python3"
  },
  "language_info": {
   "codemirror_mode": {
    "name": "ipython",
    "version": 3
   },
   "file_extension": ".py",
   "mimetype": "text/x-python",
   "name": "python",
   "nbconvert_exporter": "python",
   "pygments_lexer": "ipython3",
   "version": "3.10.14"
  }
 },
 "nbformat": 4,
 "nbformat_minor": 2
}
