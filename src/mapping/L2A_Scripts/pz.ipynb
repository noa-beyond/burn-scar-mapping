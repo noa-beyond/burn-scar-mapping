{
 "cells": [
  {
   "cell_type": "code",
   "execution_count": null,
   "metadata": {},
   "outputs": [],
   "source": [
    "import json\n",
    "from ExpAOISentinelDownloader import Downloader\n",
    "from ExpAOISentinelProcessor import Processor"
   ]
  },
  {
   "cell_type": "code",
   "execution_count": null,
   "metadata": {},
   "outputs": [],
   "source": [
    "def load_config(config_path):\n",
    "    with open(config_path, 'r') as config_file:\n",
    "        config = json.load(config_file)\n",
    "    return config"
   ]
  },
  {
   "cell_type": "code",
   "execution_count": null,
   "metadata": {},
   "outputs": [],
   "source": [
    "config = load_config('config_file.json')\n",
    "# Accessing the values from the config\n",
    "client_id = config['sentinelhub']['client_id']\n",
    "client_secret = config['sentinelhub']['client_secret']\n",
    "username = config['sentinelhub']['username']\n",
    "password = config['sentinelhub']['password']\n",
    "start_date = config['process_info']['start_date']\n",
    "fire_date = config['process_info']['fire_date']\n",
    "end_date = config['process_info']['end_date']\n",
    "lat = config['process_info']['lat']\n",
    "lon = config['process_info']['lon']\n",
    "cloud_coverage_threshold = config['user_variables']['cloud_coverage_threshold']\n",
    "mask_threshold = config['user_variables']['mask_threshold']\n",
    "\n",
    "debug = config['debug']\n",
    "save_path = 'D:/Praktiki/burned-scar-mapping/burn-scar-mapping/src/mapping/Images_Save'\n"
   ]
  },
  {
   "cell_type": "code",
   "execution_count": null,
   "metadata": {},
   "outputs": [],
   "source": [
    "downloader = Downloader(username, password, client_id, client_secret)\n",
    "processor = Processor(downloader, cloud_coverage_threshold, mask_threshold)"
   ]
  },
  {
   "cell_type": "code",
   "execution_count": null,
   "metadata": {},
   "outputs": [],
   "source": [
    "processed_dir = processor.process_burned_area(start_date,end_date,fire_date, lat, lon, save_path)"
   ]
  }
 ],
 "metadata": {
  "kernelspec": {
   "display_name": "environment_V_p_3_10",
   "language": "python",
   "name": "python3"
  },
  "language_info": {
   "codemirror_mode": {
    "name": "ipython",
    "version": 3
   },
   "file_extension": ".py",
   "mimetype": "text/x-python",
   "name": "python",
   "nbconvert_exporter": "python",
   "pygments_lexer": "ipython3",
   "version": "3.10.14"
  }
 },
 "nbformat": 4,
 "nbformat_minor": 2
}
