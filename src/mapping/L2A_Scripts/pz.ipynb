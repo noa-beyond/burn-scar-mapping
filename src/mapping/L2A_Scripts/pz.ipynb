{
 "cells": [
  {
   "cell_type": "code",
   "execution_count": 1,
   "metadata": {},
   "outputs": [],
   "source": [
    "import json\n",
    "from ExpAOISentinelDownloader import Downloader\n",
    "from ExpAOISentinelProcessor import Processor"
   ]
  },
  {
   "cell_type": "code",
   "execution_count": 2,
   "metadata": {},
   "outputs": [],
   "source": [
    "def load_config(config_path):\n",
    "    with open(config_path, 'r') as config_file:\n",
    "        config = json.load(config_file)\n",
    "    return config"
   ]
  },
  {
   "cell_type": "code",
   "execution_count": 3,
   "metadata": {},
   "outputs": [],
   "source": [
    "config = load_config('config_file.json')\n",
    "# Accessing the values from the config\n",
    "client_id = config['sentinelhub']['client_id']\n",
    "client_secret = config['sentinelhub']['client_secret']\n",
    "username = config['sentinelhub']['username']\n",
    "password = config['sentinelhub']['password']\n",
    "start_date = config['process_info']['start_date']\n",
    "fire_date = config['process_info']['fire_date']\n",
    "end_date = config['process_info']['end_date']\n",
    "lat = config['process_info']['lat']\n",
    "lon = config['process_info']['lon']\n",
    "cloud_coverage_threshold = config['user_variables']['cloud_coverage_threshold']\n",
    "mask_threshold = config['user_variables']['mask_threshold']\n",
    "\n",
    "debug = config['debug']\n",
    "save_path = 'D:/Praktiki/burned-scar-mapping/burn-scar-mapping/src/mapping/Images_Save'\n"
   ]
  },
  {
   "cell_type": "code",
   "execution_count": 4,
   "metadata": {},
   "outputs": [
    {
     "name": "stderr",
     "output_type": "stream",
     "text": [
      "2024-08-30 12:56:10,615 - ExpAOISentinelDownloader - INFO - Access token obtained successfully.\n"
     ]
    }
   ],
   "source": [
    "downloader = Downloader(username, password, client_id, client_secret)\n",
    "processor = Processor(downloader, cloud_coverage_threshold, mask_threshold)"
   ]
  },
  {
   "cell_type": "code",
   "execution_count": 5,
   "metadata": {},
   "outputs": [
    {
     "name": "stderr",
     "output_type": "stream",
     "text": [
      "2024-08-30 12:56:10,665 - root - INFO - Starting process for burned area with start_date=2024-07-10, end_date=2024-08-12, lat=41.3748, lon=23.5905\n",
      "2024-08-30 12:56:10,665 - root - INFO - For the pre image:\n",
      "2024-08-30 12:56:13,261 - ExpAOISentinelDownloader - INFO - Found 16 products for the search criteria.\n",
      "2024-08-30 12:56:13,273 - ExpAOISentinelDownloader - INFO - 8 products after filtering for level 'L2A'.\n",
      "2024-08-30 12:56:14,363 - ExpAOISentinelDownloader - INFO - 6 products meet the cloud coverage criteria.\n",
      "2024-08-30 12:56:14,379 - ExpAOISentinelDownloader - INFO - 6 products remain after cloud filtering.\n",
      "2024-08-30 12:56:14,395 - ExpAOISentinelDownloader - INFO - Selected pre - image: S2B_MSIL2A_20240713T090559_N0510_R050_T35TKF_20240713T104851.SAFE\n",
      "2024-08-30 12:56:14,395 - root - INFO - Downloading and creating NBR for image ID: 830c5aa0-2f78-42b5-92b5-c2a92ee428b9\n",
      "2024-08-30 12:56:14,395 - ExpAOISentinelDownloader - INFO - Downloading image with ID 830c5aa0-2f78-42b5-92b5-c2a92ee428b9.\n",
      "2024-08-30 12:56:14,403 - ExpAOISentinelDownloader - INFO - The image 830c5aa0-2f78-42b5-92b5-c2a92ee428b9 is already downloaded.\n"
     ]
    },
    {
     "name": "stdout",
     "output_type": "stream",
     "text": [
      "j: 6\n"
     ]
    },
    {
     "name": "stderr",
     "output_type": "stream",
     "text": [
      "d:\\Praktiki\\burned-scar-mapping\\burn-scar-mapping\\src\\mapping\\L2A_Scripts\\ExpAOISentinelProcessor.py:29: RuntimeWarning: invalid value encountered in divide\n",
      "  index = (band1.values - band2_resampled.values) / (band1.values + band2_resampled.values)\n",
      "2024-08-30 12:56:31,947 - ExpAOISentinelDownloader - INFO - Checking cloud coverage in AOI for image S2B_MSIL2A_20240713T090559_N0510_R050_T35TKF_20240713T104851.SAFE.\n",
      "2024-08-30 12:56:37,840 - ExpAOISentinelDownloader - INFO - The area contains 29205 pixels with values 2, 3, 8, or 9 of the Total: 40304.\n",
      "2024-08-30 12:56:37,848 - ExpAOISentinelDownloader - INFO - The percentage of pixels with values 2, 3, 8, or 9 is 72.46%.\n",
      "2024-08-30 12:56:37,848 - ExpAOISentinelDownloader - INFO - Selected pre - image: S2B_MSIL2A_20240713T090559_N0510_R050_T34TGL_20240713T104851.SAFE\n",
      "2024-08-30 12:56:37,856 - root - INFO - Downloading and creating NBR for image ID: c7768b4c-2eab-4943-b106-6ae8a1f8c09e\n",
      "2024-08-30 12:56:37,856 - ExpAOISentinelDownloader - INFO - Downloading image with ID c7768b4c-2eab-4943-b106-6ae8a1f8c09e.\n",
      "2024-08-30 12:56:37,856 - ExpAOISentinelDownloader - INFO - The image c7768b4c-2eab-4943-b106-6ae8a1f8c09e is already downloaded.\n"
     ]
    },
    {
     "name": "stdout",
     "output_type": "stream",
     "text": [
      "j: 6\n"
     ]
    },
    {
     "name": "stderr",
     "output_type": "stream",
     "text": [
      "d:\\Praktiki\\burned-scar-mapping\\burn-scar-mapping\\src\\mapping\\L2A_Scripts\\ExpAOISentinelProcessor.py:29: RuntimeWarning: invalid value encountered in divide\n",
      "  index = (band1.values - band2_resampled.values) / (band1.values + band2_resampled.values)\n",
      "2024-08-30 12:57:01,819 - ExpAOISentinelDownloader - INFO - Checking cloud coverage in AOI for image S2B_MSIL2A_20240713T090559_N0510_R050_T34TGL_20240713T104851.SAFE.\n",
      "2024-08-30 12:57:07,434 - ExpAOISentinelDownloader - INFO - The area contains 29266 pixels with values 2, 3, 8, or 9 of the Total: 39498.\n",
      "2024-08-30 12:57:07,434 - ExpAOISentinelDownloader - INFO - The percentage of pixels with values 2, 3, 8, or 9 is 74.09%.\n",
      "2024-08-30 12:57:07,442 - ExpAOISentinelDownloader - INFO - Selected pre - image: S2B_MSIL2A_20240716T091559_N0510_R093_T35TKF_20240716T110209.SAFE\n",
      "2024-08-30 12:57:07,442 - root - INFO - Downloading and creating NBR for image ID: ea3910d6-c629-4772-8f1a-aca0ba62e65e\n",
      "2024-08-30 12:57:07,450 - ExpAOISentinelDownloader - INFO - Downloading image with ID ea3910d6-c629-4772-8f1a-aca0ba62e65e.\n"
     ]
    },
    {
     "name": "stdout",
     "output_type": "stream",
     "text": [
      "j: 6\n"
     ]
    },
    {
     "name": "stderr",
     "output_type": "stream",
     "text": [
      "d:\\Praktiki\\burned-scar-mapping\\burn-scar-mapping\\src\\mapping\\L2A_Scripts\\ExpAOISentinelProcessor.py:29: RuntimeWarning: invalid value encountered in divide\n",
      "  index = (band1.values - band2_resampled.values) / (band1.values + band2_resampled.values)\n",
      "2024-08-30 13:02:40,882 - ExpAOISentinelDownloader - INFO - Checking cloud coverage in AOI for image S2B_MSIL2A_20240716T091559_N0510_R093_T35TKF_20240716T110209.SAFE.\n",
      "2024-08-30 13:02:46,047 - ExpAOISentinelDownloader - INFO - The area does not contain pixels with values 2, 3, 8, or 9.\n",
      "2024-08-30 13:02:46,047 - root - INFO - Deleting folders.\n",
      "2024-08-30 13:02:46,131 - root - ERROR - Error deleting folders: Command '['rmdir', '/S', '/Q', 'D:/Praktiki/burned-scar-mapping/burn-scar-mapping/src/mapping/Images_Save\\\\test_41.3748_23.5905\\\\S2B_MSIL2A_20240713T090559_N0510_R050_T35TKF_20240713T104851.SAFE']' returned non-zero exit status 1.\n",
      "2024-08-30 13:02:46,131 - root - ERROR - Error processing burned area: Command '['rmdir', '/S', '/Q', 'D:/Praktiki/burned-scar-mapping/burn-scar-mapping/src/mapping/Images_Save\\\\test_41.3748_23.5905\\\\S2B_MSIL2A_20240713T090559_N0510_R050_T35TKF_20240713T104851.SAFE']' returned non-zero exit status 1.\n"
     ]
    },
    {
     "name": "stdout",
     "output_type": "stream",
     "text": [
      "Deleting folder: D:/Praktiki/burned-scar-mapping/burn-scar-mapping/src/mapping/Images_Save\\test_41.3748_23.5905\\S2B_MSIL2A_20240713T090559_N0510_R050_T35TKF_20240713T104851.SAFE\n"
     ]
    },
    {
     "ename": "CalledProcessError",
     "evalue": "Command '['rmdir', '/S', '/Q', 'D:/Praktiki/burned-scar-mapping/burn-scar-mapping/src/mapping/Images_Save\\\\test_41.3748_23.5905\\\\S2B_MSIL2A_20240713T090559_N0510_R050_T35TKF_20240713T104851.SAFE']' returned non-zero exit status 1.",
     "output_type": "error",
     "traceback": [
      "\u001b[1;31m---------------------------------------------------------------------------\u001b[0m",
      "\u001b[1;31mCalledProcessError\u001b[0m                        Traceback (most recent call last)",
      "Cell \u001b[1;32mIn[5], line 1\u001b[0m\n\u001b[1;32m----> 1\u001b[0m processed_dir \u001b[38;5;241m=\u001b[39m \u001b[43mprocessor\u001b[49m\u001b[38;5;241;43m.\u001b[39;49m\u001b[43mprocess_burned_area\u001b[49m\u001b[43m(\u001b[49m\u001b[43mstart_date\u001b[49m\u001b[43m,\u001b[49m\u001b[43mend_date\u001b[49m\u001b[43m,\u001b[49m\u001b[43mfire_date\u001b[49m\u001b[43m,\u001b[49m\u001b[43m \u001b[49m\u001b[43mlat\u001b[49m\u001b[43m,\u001b[49m\u001b[43m \u001b[49m\u001b[43mlon\u001b[49m\u001b[43m,\u001b[49m\u001b[43m \u001b[49m\u001b[43msave_path\u001b[49m\u001b[43m)\u001b[49m\n",
      "File \u001b[1;32md:\\Praktiki\\burned-scar-mapping\\burn-scar-mapping\\src\\mapping\\L2A_Scripts\\ExpAOISentinelProcessor.py:142\u001b[0m, in \u001b[0;36mProcessor.process_burned_area\u001b[1;34m(self, start_date, end_date, fire_date, lat, lon, output_dir)\u001b[0m\n\u001b[0;32m    139\u001b[0m     k \u001b[38;5;241m+\u001b[39m\u001b[38;5;241m=\u001b[39m \u001b[38;5;241m1\u001b[39m\n\u001b[0;32m    140\u001b[0m     \u001b[38;5;28;01mif\u001b[39;00m k \u001b[38;5;241m==\u001b[39m \u001b[38;5;241m5\u001b[39m: logging\u001b[38;5;241m.\u001b[39mwarning(\u001b[38;5;124m'\u001b[39m\u001b[38;5;124mI have to stop after 5 iterations.\u001b[39m\u001b[38;5;124m'\u001b[39m)\n\u001b[1;32m--> 142\u001b[0m \u001b[38;5;28;43mself\u001b[39;49m\u001b[38;5;241;43m.\u001b[39;49m\u001b[43mdelete_folders\u001b[49m\u001b[43m(\u001b[49m\u001b[43moutput_dir\u001b[49m\u001b[43m,\u001b[49m\u001b[43mproducts_sorted_pre\u001b[49m\u001b[43m,\u001b[49m\u001b[43m \u001b[49m\u001b[43mpre_name\u001b[49m\u001b[43m)\u001b[49m\n\u001b[0;32m    144\u001b[0m logging\u001b[38;5;241m.\u001b[39minfo(\u001b[38;5;124m'\u001b[39m\u001b[38;5;124mFor the post image:\u001b[39m\u001b[38;5;124m'\u001b[39m)\n\u001b[0;32m    145\u001b[0m products_sorted_post \u001b[38;5;241m=\u001b[39m \u001b[38;5;28mself\u001b[39m\u001b[38;5;241m.\u001b[39mdownloader\u001b[38;5;241m.\u001b[39msearch_sentinel(fire_date, end_date, aoi, bb, \u001b[38;5;28mself\u001b[39m\u001b[38;5;241m.\u001b[39mcloud_coverage_threshold, data_collection \u001b[38;5;241m=\u001b[39m \u001b[38;5;124m\"\u001b[39m\u001b[38;5;124mSENTINEL-2\u001b[39m\u001b[38;5;124m\"\u001b[39m, level \u001b[38;5;241m=\u001b[39m \u001b[38;5;124m'\u001b[39m\u001b[38;5;124mL2A\u001b[39m\u001b[38;5;124m'\u001b[39m)\n",
      "File \u001b[1;32md:\\Praktiki\\burned-scar-mapping\\burn-scar-mapping\\src\\mapping\\L2A_Scripts\\ExpAOISentinelProcessor.py:106\u001b[0m, in \u001b[0;36mProcessor.delete_folders\u001b[1;34m(self, output_dir, images, image_name)\u001b[0m\n\u001b[0;32m    104\u001b[0m         \u001b[38;5;28;01mif\u001b[39;00m os\u001b[38;5;241m.\u001b[39mpath\u001b[38;5;241m.\u001b[39misdir(folder_path) \u001b[38;5;129;01mand\u001b[39;00m image \u001b[38;5;241m!=\u001b[39m image_name:\n\u001b[0;32m    105\u001b[0m             \u001b[38;5;28mprint\u001b[39m(\u001b[38;5;124mf\u001b[39m\u001b[38;5;124m\"\u001b[39m\u001b[38;5;124mDeleting folder: \u001b[39m\u001b[38;5;132;01m{\u001b[39;00mfolder_path\u001b[38;5;132;01m}\u001b[39;00m\u001b[38;5;124m\"\u001b[39m)\n\u001b[1;32m--> 106\u001b[0m             \u001b[43msubprocess\u001b[49m\u001b[38;5;241;43m.\u001b[39;49m\u001b[43mrun\u001b[49m\u001b[43m(\u001b[49m\u001b[43m[\u001b[49m\u001b[38;5;124;43m'\u001b[39;49m\u001b[38;5;124;43mrmdir\u001b[39;49m\u001b[38;5;124;43m'\u001b[39;49m\u001b[43m,\u001b[49m\u001b[43m \u001b[49m\u001b[38;5;124;43m'\u001b[39;49m\u001b[38;5;124;43m/S\u001b[39;49m\u001b[38;5;124;43m'\u001b[39;49m\u001b[43m,\u001b[49m\u001b[43m \u001b[49m\u001b[38;5;124;43m'\u001b[39;49m\u001b[38;5;124;43m/Q\u001b[39;49m\u001b[38;5;124;43m'\u001b[39;49m\u001b[43m,\u001b[49m\u001b[43m \u001b[49m\u001b[43mfolder_path\u001b[49m\u001b[43m]\u001b[49m\u001b[43m,\u001b[49m\u001b[43m \u001b[49m\u001b[43mshell\u001b[49m\u001b[38;5;241;43m=\u001b[39;49m\u001b[38;5;28;43;01mTrue\u001b[39;49;00m\u001b[43m,\u001b[49m\u001b[43m \u001b[49m\u001b[43mcheck\u001b[49m\u001b[38;5;241;43m=\u001b[39;49m\u001b[38;5;28;43;01mTrue\u001b[39;49;00m\u001b[43m)\u001b[49m\n\u001b[0;32m    108\u001b[0m \u001b[38;5;28;01mexcept\u001b[39;00m subprocess\u001b[38;5;241m.\u001b[39mCalledProcessError \u001b[38;5;28;01mas\u001b[39;00m e:\n\u001b[0;32m    109\u001b[0m     logging\u001b[38;5;241m.\u001b[39merror(\u001b[38;5;124mf\u001b[39m\u001b[38;5;124m'\u001b[39m\u001b[38;5;124mError deleting folders: \u001b[39m\u001b[38;5;132;01m{\u001b[39;00me\u001b[38;5;132;01m}\u001b[39;00m\u001b[38;5;124m'\u001b[39m)\n",
      "File \u001b[1;32md:\\programs\\installed_in_D\\anaconda3\\envs\\environment_V_p_3_10\\lib\\subprocess.py:526\u001b[0m, in \u001b[0;36mrun\u001b[1;34m(input, capture_output, timeout, check, *popenargs, **kwargs)\u001b[0m\n\u001b[0;32m    524\u001b[0m     retcode \u001b[38;5;241m=\u001b[39m process\u001b[38;5;241m.\u001b[39mpoll()\n\u001b[0;32m    525\u001b[0m     \u001b[38;5;28;01mif\u001b[39;00m check \u001b[38;5;129;01mand\u001b[39;00m retcode:\n\u001b[1;32m--> 526\u001b[0m         \u001b[38;5;28;01mraise\u001b[39;00m CalledProcessError(retcode, process\u001b[38;5;241m.\u001b[39margs,\n\u001b[0;32m    527\u001b[0m                                  output\u001b[38;5;241m=\u001b[39mstdout, stderr\u001b[38;5;241m=\u001b[39mstderr)\n\u001b[0;32m    528\u001b[0m \u001b[38;5;28;01mreturn\u001b[39;00m CompletedProcess(process\u001b[38;5;241m.\u001b[39margs, retcode, stdout, stderr)\n",
      "\u001b[1;31mCalledProcessError\u001b[0m: Command '['rmdir', '/S', '/Q', 'D:/Praktiki/burned-scar-mapping/burn-scar-mapping/src/mapping/Images_Save\\\\test_41.3748_23.5905\\\\S2B_MSIL2A_20240713T090559_N0510_R050_T35TKF_20240713T104851.SAFE']' returned non-zero exit status 1."
     ]
    }
   ],
   "source": [
    "processed_dir = processor.process_burned_area(start_date,end_date,fire_date, lat, lon, save_path)"
   ]
  }
 ],
 "metadata": {
  "kernelspec": {
   "display_name": "environment_V_p_3_10",
   "language": "python",
   "name": "python3"
  },
  "language_info": {
   "codemirror_mode": {
    "name": "ipython",
    "version": 3
   },
   "file_extension": ".py",
   "mimetype": "text/x-python",
   "name": "python",
   "nbconvert_exporter": "python",
   "pygments_lexer": "ipython3",
   "version": "3.10.14"
  }
 },
 "nbformat": 4,
 "nbformat_minor": 2
}
